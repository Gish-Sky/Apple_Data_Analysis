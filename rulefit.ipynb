{
 "cells": [
  {
   "cell_type": "code",
   "execution_count": 1,
   "metadata": {},
   "outputs": [
    {
     "name": "stdout",
     "output_type": "stream",
     "text": [
      "Defaulting to user installation because normal site-packages is not writeable\n",
      "Collecting git+https://github.com/christophM/rulefit.git\n",
      "  Cloning https://github.com/christophM/rulefit.git to /private/var/folders/78/wrm63b0n5jxg2yyw_6wf_66h0000gn/T/pip-req-build-4mfutqa4\n",
      "  Running command git clone -q https://github.com/christophM/rulefit.git /private/var/folders/78/wrm63b0n5jxg2yyw_6wf_66h0000gn/T/pip-req-build-4mfutqa4\n",
      "  Resolved https://github.com/christophM/rulefit.git to commit 472b8574b4eb9e565caf1e05ed580998fe2c9a8e\n",
      "Requirement already satisfied: scikit-learn>=0.20.2 in /Users/jade/Library/Python/3.9/lib/python/site-packages (from RuleFit==0.3) (1.4.0)\n",
      "Requirement already satisfied: numpy>=1.16.1 in /Users/jade/Library/Python/3.9/lib/python/site-packages (from RuleFit==0.3) (1.26.4)\n",
      "Requirement already satisfied: pandas>=0.24.1 in /Users/jade/Library/Python/3.9/lib/python/site-packages (from RuleFit==0.3) (2.2.0)\n",
      "Collecting ordered-set>=4.1.0\n",
      "  Downloading ordered_set-4.1.0-py3-none-any.whl (7.6 kB)\n",
      "Requirement already satisfied: python-dateutil>=2.8.2 in /Users/jade/Library/Python/3.9/lib/python/site-packages (from pandas>=0.24.1->RuleFit==0.3) (2.8.2)\n",
      "Requirement already satisfied: pytz>=2020.1 in /Users/jade/Library/Python/3.9/lib/python/site-packages (from pandas>=0.24.1->RuleFit==0.3) (2024.1)\n",
      "Requirement already satisfied: tzdata>=2022.7 in /Users/jade/Library/Python/3.9/lib/python/site-packages (from pandas>=0.24.1->RuleFit==0.3) (2024.1)\n",
      "Requirement already satisfied: six>=1.5 in /Library/Developer/CommandLineTools/Library/Frameworks/Python3.framework/Versions/3.9/lib/python3.9/site-packages (from python-dateutil>=2.8.2->pandas>=0.24.1->RuleFit==0.3) (1.15.0)\n",
      "Requirement already satisfied: joblib>=1.2.0 in /Users/jade/Library/Python/3.9/lib/python/site-packages (from scikit-learn>=0.20.2->RuleFit==0.3) (1.3.2)\n",
      "Requirement already satisfied: scipy>=1.6.0 in /Users/jade/Library/Python/3.9/lib/python/site-packages (from scikit-learn>=0.20.2->RuleFit==0.3) (1.12.0)\n",
      "Requirement already satisfied: threadpoolctl>=2.0.0 in /Users/jade/Library/Python/3.9/lib/python/site-packages (from scikit-learn>=0.20.2->RuleFit==0.3) (3.2.0)\n",
      "Building wheels for collected packages: RuleFit\n",
      "  Building wheel for RuleFit (setup.py) ... \u001b[?25ldone\n",
      "\u001b[?25h  Created wheel for RuleFit: filename=RuleFit-0.3-py3-none-any.whl size=8106 sha256=8f33724f173b43ca8e4cc7cbe613801f81ea190dfd0bf5117a5c596c886974f7\n",
      "  Stored in directory: /private/var/folders/78/wrm63b0n5jxg2yyw_6wf_66h0000gn/T/pip-ephem-wheel-cache-2mfby1hw/wheels/2d/fd/f7/d072c738b494196813a2c983725b130adc3015cb29844708a2\n",
      "Successfully built RuleFit\n",
      "Installing collected packages: ordered-set, RuleFit\n",
      "Successfully installed RuleFit-0.3 ordered-set-4.1.0\n",
      "\u001b[33mWARNING: You are using pip version 21.2.4; however, version 24.0 is available.\n",
      "You should consider upgrading via the '/Library/Developer/CommandLineTools/usr/bin/python3 -m pip install --upgrade pip' command.\u001b[0m\n",
      "Note: you may need to restart the kernel to use updated packages.\n"
     ]
    }
   ],
   "source": [
    "pip install git+https://github.com/christophM/rulefit.git"
   ]
  },
  {
   "cell_type": "code",
   "execution_count": 3,
   "metadata": {},
   "outputs": [
    {
     "ename": "ImportError",
     "evalue": "cannot import name 'RuleFit' from 'rulefit' (/Users/jade/Documents/GitHub/Apple_Data_Analysis/rulefit.py)",
     "output_type": "error",
     "traceback": [
      "\u001b[0;31m---------------------------------------------------------------------------\u001b[0m",
      "\u001b[0;31mImportError\u001b[0m                               Traceback (most recent call last)",
      "Cell \u001b[0;32mIn[3], line 3\u001b[0m\n\u001b[1;32m      1\u001b[0m \u001b[38;5;28;01mimport\u001b[39;00m \u001b[38;5;21;01mnumpy\u001b[39;00m \u001b[38;5;28;01mas\u001b[39;00m \u001b[38;5;21;01mnumpy\u001b[39;00m\n\u001b[1;32m      2\u001b[0m \u001b[38;5;28;01mimport\u001b[39;00m \u001b[38;5;21;01mpandas\u001b[39;00m \u001b[38;5;28;01mas\u001b[39;00m \u001b[38;5;21;01mpd\u001b[39;00m\n\u001b[0;32m----> 3\u001b[0m \u001b[38;5;28;01mfrom\u001b[39;00m \u001b[38;5;21;01mrulefit\u001b[39;00m \u001b[38;5;28;01mimport\u001b[39;00m RuleFit\n",
      "\u001b[0;31mImportError\u001b[0m: cannot import name 'RuleFit' from 'rulefit' (/Users/jade/Documents/GitHub/Apple_Data_Analysis/rulefit.py)"
     ]
    }
   ],
   "source": [
    "import numpy as numpy\n",
    "import pandas as pd\n",
    "from rulefit import RuleFit"
   ]
  },
  {
   "cell_type": "code",
   "execution_count": null,
   "metadata": {},
   "outputs": [],
   "source": []
  }
 ],
 "metadata": {
  "kernelspec": {
   "display_name": "Python 3",
   "language": "python",
   "name": "python3"
  },
  "language_info": {
   "codemirror_mode": {
    "name": "ipython",
    "version": 3
   },
   "file_extension": ".py",
   "mimetype": "text/x-python",
   "name": "python",
   "nbconvert_exporter": "python",
   "pygments_lexer": "ipython3",
   "version": "3.9.6"
  }
 },
 "nbformat": 4,
 "nbformat_minor": 2
}
